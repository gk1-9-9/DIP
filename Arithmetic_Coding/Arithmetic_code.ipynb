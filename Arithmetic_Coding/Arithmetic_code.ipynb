{
 "cells": [
  {
   "cell_type": "code",
   "execution_count": 2,
   "metadata": {},
   "outputs": [
    {
     "name": "stdout",
     "output_type": "stream",
     "text": [
      "Encoded value: 0.8253125\n",
      "Decoded message: TAPAN\n"
     ]
    }
   ],
   "source": [
    "from typing import Dict, List\n",
    "\n",
    "class ArithmeticCoder:\n",
    "    def __init__(self, probabilities: Dict[str, float]):\n",
    "        self.probabilities = probabilities\n",
    "        self.symbols = list(probabilities.keys())\n",
    "        self.lower_bound = 0.0\n",
    "        self.upper_bound = 1.0\n",
    "\n",
    "    def encode(self, message: str) -> float:\n",
    "        low = self.lower_bound\n",
    "        high = self.upper_bound\n",
    "\n",
    "        for symbol in message:\n",
    "            range_width = high - low\n",
    "            high = low + range_width * (self.probabilities.get(symbol, 0.0) + sum(self.probabilities[s] for s in self.symbols if s < symbol))\n",
    "            low = low + range_width * (sum(self.probabilities[s] for s in self.symbols if s < symbol))\n",
    "\n",
    "        return (low + high) / 2\n",
    "\n",
    "    def decode(self, code: float, length: int) -> str:\n",
    "        message = \"\"\n",
    "        low = self.lower_bound\n",
    "        high = self.upper_bound\n",
    "\n",
    "        for _ in range(length):\n",
    "            range_width = high - low\n",
    "            for symbol in self.symbols:\n",
    "                prob = self.probabilities[symbol]\n",
    "                if low + range_width * (prob + sum(self.probabilities[s] for s in self.symbols if s < symbol)) > code:\n",
    "                    message += symbol\n",
    "                    high = low + range_width * (prob + sum(self.probabilities[s] for s in self.symbols if s < symbol))\n",
    "                    low = low + range_width * sum(self.probabilities[s] for s in self.symbols if s < symbol)\n",
    "                    break\n",
    "\n",
    "        return message\n",
    "\n",
    "# Define probabilities \n",
    "probabilities = {\n",
    "    'A': 0.5,\n",
    "    'N': 0.05,\n",
    "    'P': 0.2,\n",
    "    'T': 0.25\n",
    "}\n",
    "\n",
    "message = \"TAPAN\"\n",
    "\n",
    "coder = ArithmeticCoder(probabilities)\n",
    "encoded_value = coder.encode(message)\n",
    "print(f\"Encoded value: {encoded_value}\")\n",
    "\n",
    "decoded_message = coder.decode(encoded_value, len(message))\n",
    "print(f\"Decoded message: {decoded_message}\")\n"
   ]
  }
 ],
 "metadata": {
  "kernelspec": {
   "display_name": "Python 3",
   "language": "python",
   "name": "python3"
  },
  "language_info": {
   "codemirror_mode": {
    "name": "ipython",
    "version": 3
   },
   "file_extension": ".py",
   "mimetype": "text/x-python",
   "name": "python",
   "nbconvert_exporter": "python",
   "pygments_lexer": "ipython3",
   "version": "3.12.4"
  }
 },
 "nbformat": 4,
 "nbformat_minor": 2
}
