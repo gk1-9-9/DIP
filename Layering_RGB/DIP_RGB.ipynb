{
 "cells": [
  {
   "cell_type": "markdown",
   "metadata": {},
   "source": [
    "# Splitting and Saving RGB Channels of an Image\n",
    "\n",
    "## Prerequisites\n",
    "\n",
    "Make sure you have the following libraries installed:\n",
    "- `opencv-python`\n",
    "- `numpy`\n",
    "- `os`\n"
   ]
  },
  {
   "cell_type": "code",
   "execution_count": 1,
   "metadata": {},
   "outputs": [
    {
     "name": "stdout",
     "output_type": "stream",
     "text": [
      "RGB planes saved successfully.\n"
     ]
    }
   ],
   "source": [
    "import cv2\n",
    "import numpy as np\n",
    "import os\n",
    "\n",
    "# Load the image\n",
    "image = cv2.imread('ojas.jpg')\n",
    "\n",
    "# Check if the image was loaded properly\n",
    "if image is None:\n",
    "    print(\"Error: Image not loaded.\")\n",
    "    exit()\n",
    "\n",
    "# Ensure the image has three channels (RGB)\n",
    "if len(image.shape) != 3 or image.shape[2] != 3:\n",
    "    print(\"Error: Image does not have three channels.\")\n",
    "    exit()\n",
    "\n",
    "# Split the image into its B, G, R channels\n",
    "blue_channel, green_channel, red_channel = cv2.split(image)\n",
    "\n",
    "# Create empty channels\n",
    "zero_channel = np.zeros_like(blue_channel)\n",
    "\n",
    "# Merge channels to get color images with only one channel's values\n",
    "blue_image = cv2.merge([blue_channel, zero_channel, zero_channel])\n",
    "green_image = cv2.merge([zero_channel, green_channel, zero_channel])\n",
    "red_image = cv2.merge([zero_channel, zero_channel, red_channel])\n",
    "\n",
    "# Directory to save RGB plane images\n",
    "output_dir = 'rgb_planes'\n",
    "if not os.path.exists(output_dir):\n",
    "    os.makedirs(output_dir)\n",
    "\n",
    "# Save each channel as a color image\n",
    "cv2.imwrite(os.path.join(output_dir, 'blue_image.png'), blue_image)\n",
    "cv2.imwrite(os.path.join(output_dir, 'green_image.png'), green_image)\n",
    "cv2.imwrite(os.path.join(output_dir, 'red_image.png'), red_image)\n",
    "\n",
    "print('RGB planes saved successfully.')\n",
    "\n",
    "# Stack the images horizontally\n",
    "result = np.hstack((image, red_image, green_image, blue_image))\n"
   ]
  }
 ],
 "metadata": {
  "kernelspec": {
   "display_name": "Python 3",
   "language": "python",
   "name": "python3"
  },
  "language_info": {
   "codemirror_mode": {
    "name": "ipython",
    "version": 3
   },
   "file_extension": ".py",
   "mimetype": "text/x-python",
   "name": "python",
   "nbconvert_exporter": "python",
   "pygments_lexer": "ipython3",
   "version": "3.12.4"
  }
 },
 "nbformat": 4,
 "nbformat_minor": 2
}
