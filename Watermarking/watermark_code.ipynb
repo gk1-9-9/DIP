{
 "cells": [
  {
   "cell_type": "code",
   "execution_count": 1,
   "metadata": {},
   "outputs": [],
   "source": [
    "from PIL import Image, ImageDraw, ImageFont\n",
    "import numpy as np\n",
    "\n",
    "def add_watermark(image_path, watermark_text, output_path):\n",
    "    # Open the original image\n",
    "    img = Image.open(image_path).convert(\"RGBA\")\n",
    "\n",
    "    # Create a watermark image\n",
    "    watermark = Image.new(\"RGBA\", img.size, (0, 0, 0, 0))\n",
    "\n",
    "    # Get a font\n",
    "    font = ImageFont.load_default()\n",
    "\n",
    "    # Initialize ImageDraw\n",
    "    draw = ImageDraw.Draw(watermark)\n",
    "\n",
    "    # Set the position and text of the watermark\n",
    "    text_position = (10, 10)\n",
    "    draw.text(text_position, watermark_text, font=font, fill=(255, 255, 255, 128))\n",
    "\n",
    "    # Composite the watermark with the original image\n",
    "    watermarked_img = Image.alpha_composite(img, watermark)\n",
    "\n",
    "    # Convert back to RGB if needed\n",
    "    watermarked_img = watermarked_img.convert(\"RGB\")\n",
    "\n",
    "    # Save the result\n",
    "    watermarked_img.save(output_path)\n",
    "\n",
    "    # Show the result\n",
    "    watermarked_img.show()\n",
    "\n",
    "# Example usage\n",
    "add_watermark('../images/input_image.jpeg', 'Gaurav', '../images/watermarked.jpeg')\n"
   ]
  }
 ],
 "metadata": {
  "kernelspec": {
   "display_name": "Python 3",
   "language": "python",
   "name": "python3"
  },
  "language_info": {
   "codemirror_mode": {
    "name": "ipython",
    "version": 3
   },
   "file_extension": ".py",
   "mimetype": "text/x-python",
   "name": "python",
   "nbconvert_exporter": "python",
   "pygments_lexer": "ipython3",
   "version": "3.12.4"
  }
 },
 "nbformat": 4,
 "nbformat_minor": 2
}
