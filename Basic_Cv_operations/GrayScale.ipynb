{
 "cells": [
  {
   "cell_type": "markdown",
   "metadata": {},
   "source": [
    "# Converting a color image to gray scale using formula [(R + G + B) // 3]\n",
    "\n",
    "The dimensions of the image are obtained to iterate over each pixel.\n",
    "\n",
    "## Prerequisites\n",
    "\n",
    "Ensure you have the following libraries installed:\n",
    "- `opencv-python`\n",
    "- `numpy`"
   ]
  },
  {
   "cell_type": "code",
   "execution_count": 7,
   "metadata": {},
   "outputs": [],
   "source": [
    "import cv2\n",
    "import numpy as np\n",
    "\n",
    "# Read the image\n",
    "img = cv2.imread('image.png')\n",
    "\n",
    "# Get the dimensions of the image\n",
    "height, width, _ = img.shape\n",
    "\n",
    "# Initialize a new array for the grayscale image\n",
    "gray_img = np.zeros((height, width), dtype=np.uint8)\n",
    "\n",
    "# Iterate over each pixel to compute the grayscale value using R + G + B\n",
    "for i in range(height):\n",
    "    for j in range(width):\n",
    "        R = int(img[i, j, 2])  # Red channel\n",
    "        G = int(img[i, j, 1])  # Green channel\n",
    "        B = int(img[i, j, 0])  # Blue channel\n",
    "        \n",
    "        # Calculate the grayscale value\n",
    "        gray_value = (R + G + B) // 3  # Use integer division to avoid overflow\n",
    "        \n",
    "        # Ensure the value is within the valid range [0, 255]\n",
    "        gray_value = min(gray_value, 255)\n",
    "        \n",
    "        # Set the grayscale value in the new image\n",
    "        gray_img[i, j] = gray_value\n",
    "\n",
    "# Display the grayscale image\n",
    "cv2.imshow('Grayscale Image', gray_img)\n",
    "cv2.waitKey(0)\n",
    "cv2.destroyAllWindows()"
   ]
  }
 ],
 "metadata": {
  "kernelspec": {
   "display_name": "Python 3",
   "language": "python",
   "name": "python3"
  },
  "language_info": {
   "codemirror_mode": {
    "name": "ipython",
    "version": 3
   },
   "file_extension": ".py",
   "mimetype": "text/x-python",
   "name": "python",
   "nbconvert_exporter": "python",
   "pygments_lexer": "ipython3",
   "version": "3.12.4"
  }
 },
 "nbformat": 4,
 "nbformat_minor": 2
}
